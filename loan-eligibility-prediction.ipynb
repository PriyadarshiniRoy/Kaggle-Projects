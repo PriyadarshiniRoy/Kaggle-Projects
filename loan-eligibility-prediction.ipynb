{
 "cells": [
  {
   "cell_type": "code",
   "execution_count": 1,
   "id": "d0e102a6",
   "metadata": {
    "_cell_guid": "b1076dfc-b9ad-4769-8c92-a6c4dae69d19",
    "_uuid": "8f2839f25d086af736a60e9eeb907d3b93b6e0e5",
    "execution": {
     "iopub.execute_input": "2024-10-08T14:44:59.773504Z",
     "iopub.status.busy": "2024-10-08T14:44:59.773061Z",
     "iopub.status.idle": "2024-10-08T14:45:00.569095Z",
     "shell.execute_reply": "2024-10-08T14:45:00.568015Z"
    },
    "papermill": {
     "duration": 0.810618,
     "end_time": "2024-10-08T14:45:00.571631",
     "exception": false,
     "start_time": "2024-10-08T14:44:59.761013",
     "status": "completed"
    },
    "tags": []
   },
   "outputs": [
    {
     "name": "stdout",
     "output_type": "stream",
     "text": [
      "/kaggle/input/loaneligibilityprediction/loan-train.csv\n",
      "/kaggle/input/loaneligibilityprediction/loan-test.csv\n"
     ]
    }
   ],
   "source": [
    "# This Python 3 environment comes with many helpful analytics libraries installed\n",
    "# It is defined by the kaggle/python Docker image: https://github.com/kaggle/docker-python\n",
    "# For example, here's several helpful packages to load\n",
    "\n",
    "import numpy as np # linear algebra\n",
    "import pandas as pd # data processing, CSV file I/O (e.g. pd.read_csv)\n",
    "\n",
    "# Input data files are available in the read-only \"../input/\" directory\n",
    "# For example, running this (by clicking run or pressing Shift+Enter) will list all files under the input directory\n",
    "\n",
    "import os\n",
    "for dirname, _, filenames in os.walk('/kaggle/input'):\n",
    "    for filename in filenames:\n",
    "        print(os.path.join(dirname, filename))\n",
    "\n",
    "# You can write up to 20GB to the current directory (/kaggle/working/) that gets preserved as output when you create a version using \"Save & Run All\" \n",
    "# You can also write temporary files to /kaggle/temp/, but they won't be saved outside of the current session"
   ]
  },
  {
   "cell_type": "code",
   "execution_count": 2,
   "id": "fc435b5e",
   "metadata": {
    "execution": {
     "iopub.execute_input": "2024-10-08T14:45:00.591960Z",
     "iopub.status.busy": "2024-10-08T14:45:00.591031Z",
     "iopub.status.idle": "2024-10-08T14:45:00.597026Z",
     "shell.execute_reply": "2024-10-08T14:45:00.596076Z"
    },
    "papermill": {
     "duration": 0.017885,
     "end_time": "2024-10-08T14:45:00.599014",
     "exception": false,
     "start_time": "2024-10-08T14:45:00.581129",
     "status": "completed"
    },
    "tags": []
   },
   "outputs": [],
   "source": [
    "import pandas as pd\n",
    "import numpy as np\n",
    "import matplotlib.pyplot as plt\n",
    "%matplotlib inline"
   ]
  },
  {
   "cell_type": "code",
   "execution_count": 3,
   "id": "453fc3dc",
   "metadata": {
    "execution": {
     "iopub.execute_input": "2024-10-08T14:45:00.618939Z",
     "iopub.status.busy": "2024-10-08T14:45:00.618089Z",
     "iopub.status.idle": "2024-10-08T14:45:00.656374Z",
     "shell.execute_reply": "2024-10-08T14:45:00.655388Z"
    },
    "papermill": {
     "duration": 0.051006,
     "end_time": "2024-10-08T14:45:00.658691",
     "exception": false,
     "start_time": "2024-10-08T14:45:00.607685",
     "status": "completed"
    },
    "tags": []
   },
   "outputs": [
    {
     "data": {
      "text/html": [
       "<div>\n",
       "<style scoped>\n",
       "    .dataframe tbody tr th:only-of-type {\n",
       "        vertical-align: middle;\n",
       "    }\n",
       "\n",
       "    .dataframe tbody tr th {\n",
       "        vertical-align: top;\n",
       "    }\n",
       "\n",
       "    .dataframe thead th {\n",
       "        text-align: right;\n",
       "    }\n",
       "</style>\n",
       "<table border=\"1\" class=\"dataframe\">\n",
       "  <thead>\n",
       "    <tr style=\"text-align: right;\">\n",
       "      <th></th>\n",
       "      <th>Loan_ID</th>\n",
       "      <th>Gender</th>\n",
       "      <th>Married</th>\n",
       "      <th>Dependents</th>\n",
       "      <th>Education</th>\n",
       "      <th>Self_Employed</th>\n",
       "      <th>ApplicantIncome</th>\n",
       "      <th>CoapplicantIncome</th>\n",
       "      <th>LoanAmount</th>\n",
       "      <th>Loan_Amount_Term</th>\n",
       "      <th>Credit_History</th>\n",
       "      <th>Property_Area</th>\n",
       "      <th>Loan_Status</th>\n",
       "    </tr>\n",
       "  </thead>\n",
       "  <tbody>\n",
       "    <tr>\n",
       "      <th>0</th>\n",
       "      <td>LP001002</td>\n",
       "      <td>Male</td>\n",
       "      <td>No</td>\n",
       "      <td>0</td>\n",
       "      <td>Graduate</td>\n",
       "      <td>No</td>\n",
       "      <td>5849</td>\n",
       "      <td>0.0</td>\n",
       "      <td>NaN</td>\n",
       "      <td>360.0</td>\n",
       "      <td>1.0</td>\n",
       "      <td>Urban</td>\n",
       "      <td>Y</td>\n",
       "    </tr>\n",
       "    <tr>\n",
       "      <th>1</th>\n",
       "      <td>LP001003</td>\n",
       "      <td>Male</td>\n",
       "      <td>Yes</td>\n",
       "      <td>1</td>\n",
       "      <td>Graduate</td>\n",
       "      <td>No</td>\n",
       "      <td>4583</td>\n",
       "      <td>1508.0</td>\n",
       "      <td>128.0</td>\n",
       "      <td>360.0</td>\n",
       "      <td>1.0</td>\n",
       "      <td>Rural</td>\n",
       "      <td>N</td>\n",
       "    </tr>\n",
       "    <tr>\n",
       "      <th>2</th>\n",
       "      <td>LP001005</td>\n",
       "      <td>Male</td>\n",
       "      <td>Yes</td>\n",
       "      <td>0</td>\n",
       "      <td>Graduate</td>\n",
       "      <td>Yes</td>\n",
       "      <td>3000</td>\n",
       "      <td>0.0</td>\n",
       "      <td>66.0</td>\n",
       "      <td>360.0</td>\n",
       "      <td>1.0</td>\n",
       "      <td>Urban</td>\n",
       "      <td>Y</td>\n",
       "    </tr>\n",
       "    <tr>\n",
       "      <th>3</th>\n",
       "      <td>LP001006</td>\n",
       "      <td>Male</td>\n",
       "      <td>Yes</td>\n",
       "      <td>0</td>\n",
       "      <td>Not Graduate</td>\n",
       "      <td>No</td>\n",
       "      <td>2583</td>\n",
       "      <td>2358.0</td>\n",
       "      <td>120.0</td>\n",
       "      <td>360.0</td>\n",
       "      <td>1.0</td>\n",
       "      <td>Urban</td>\n",
       "      <td>Y</td>\n",
       "    </tr>\n",
       "    <tr>\n",
       "      <th>4</th>\n",
       "      <td>LP001008</td>\n",
       "      <td>Male</td>\n",
       "      <td>No</td>\n",
       "      <td>0</td>\n",
       "      <td>Graduate</td>\n",
       "      <td>No</td>\n",
       "      <td>6000</td>\n",
       "      <td>0.0</td>\n",
       "      <td>141.0</td>\n",
       "      <td>360.0</td>\n",
       "      <td>1.0</td>\n",
       "      <td>Urban</td>\n",
       "      <td>Y</td>\n",
       "    </tr>\n",
       "  </tbody>\n",
       "</table>\n",
       "</div>"
      ],
      "text/plain": [
       "    Loan_ID Gender Married Dependents     Education Self_Employed  \\\n",
       "0  LP001002   Male      No          0      Graduate            No   \n",
       "1  LP001003   Male     Yes          1      Graduate            No   \n",
       "2  LP001005   Male     Yes          0      Graduate           Yes   \n",
       "3  LP001006   Male     Yes          0  Not Graduate            No   \n",
       "4  LP001008   Male      No          0      Graduate            No   \n",
       "\n",
       "   ApplicantIncome  CoapplicantIncome  LoanAmount  Loan_Amount_Term  \\\n",
       "0             5849                0.0         NaN             360.0   \n",
       "1             4583             1508.0       128.0             360.0   \n",
       "2             3000                0.0        66.0             360.0   \n",
       "3             2583             2358.0       120.0             360.0   \n",
       "4             6000                0.0       141.0             360.0   \n",
       "\n",
       "   Credit_History Property_Area Loan_Status  \n",
       "0             1.0         Urban           Y  \n",
       "1             1.0         Rural           N  \n",
       "2             1.0         Urban           Y  \n",
       "3             1.0         Urban           Y  \n",
       "4             1.0         Urban           Y  "
      ]
     },
     "execution_count": 3,
     "metadata": {},
     "output_type": "execute_result"
    }
   ],
   "source": [
    "data=pd.read_csv(\"/kaggle/input/loaneligibilityprediction/loan-train.csv\")\n",
    "data.head()"
   ]
  },
  {
   "cell_type": "code",
   "execution_count": 4,
   "id": "724039d7",
   "metadata": {
    "execution": {
     "iopub.execute_input": "2024-10-08T14:45:00.678254Z",
     "iopub.status.busy": "2024-10-08T14:45:00.677545Z",
     "iopub.status.idle": "2024-10-08T14:45:00.687886Z",
     "shell.execute_reply": "2024-10-08T14:45:00.686922Z"
    },
    "papermill": {
     "duration": 0.022259,
     "end_time": "2024-10-08T14:45:00.689901",
     "exception": false,
     "start_time": "2024-10-08T14:45:00.667642",
     "status": "completed"
    },
    "tags": []
   },
   "outputs": [
    {
     "data": {
      "text/plain": [
       "Loan_ID               0\n",
       "Gender               13\n",
       "Married               3\n",
       "Dependents           15\n",
       "Education             0\n",
       "Self_Employed        32\n",
       "ApplicantIncome       0\n",
       "CoapplicantIncome     0\n",
       "LoanAmount           22\n",
       "Loan_Amount_Term     14\n",
       "Credit_History       50\n",
       "Property_Area         0\n",
       "Loan_Status           0\n",
       "dtype: int64"
      ]
     },
     "execution_count": 4,
     "metadata": {},
     "output_type": "execute_result"
    }
   ],
   "source": [
    "data.isnull().sum()"
   ]
  },
  {
   "cell_type": "code",
   "execution_count": 5,
   "id": "9f94d670",
   "metadata": {
    "execution": {
     "iopub.execute_input": "2024-10-08T14:45:00.709899Z",
     "iopub.status.busy": "2024-10-08T14:45:00.709045Z",
     "iopub.status.idle": "2024-10-08T14:45:00.729376Z",
     "shell.execute_reply": "2024-10-08T14:45:00.728316Z"
    },
    "papermill": {
     "duration": 0.032497,
     "end_time": "2024-10-08T14:45:00.731462",
     "exception": false,
     "start_time": "2024-10-08T14:45:00.698965",
     "status": "completed"
    },
    "tags": []
   },
   "outputs": [
    {
     "name": "stderr",
     "output_type": "stream",
     "text": [
      "/tmp/ipykernel_17/3710581776.py:1: FutureWarning: A value is trying to be set on a copy of a DataFrame or Series through chained assignment using an inplace method.\n",
      "The behavior will change in pandas 3.0. This inplace method will never work because the intermediate object on which we are setting values always behaves as a copy.\n",
      "\n",
      "For example, when doing 'df[col].method(value, inplace=True)', try using 'df.method({col: value}, inplace=True)' or df[col] = df[col].method(value) instead, to perform the operation inplace on the original object.\n",
      "\n",
      "\n",
      "  data['Gender'].fillna(data['Gender'].mode()[0],inplace=True)\n",
      "/tmp/ipykernel_17/3710581776.py:2: FutureWarning: A value is trying to be set on a copy of a DataFrame or Series through chained assignment using an inplace method.\n",
      "The behavior will change in pandas 3.0. This inplace method will never work because the intermediate object on which we are setting values always behaves as a copy.\n",
      "\n",
      "For example, when doing 'df[col].method(value, inplace=True)', try using 'df.method({col: value}, inplace=True)' or df[col] = df[col].method(value) instead, to perform the operation inplace on the original object.\n",
      "\n",
      "\n",
      "  data['Married'].fillna(data['Married'].mode()[0],inplace=True)\n",
      "/tmp/ipykernel_17/3710581776.py:3: FutureWarning: A value is trying to be set on a copy of a DataFrame or Series through chained assignment using an inplace method.\n",
      "The behavior will change in pandas 3.0. This inplace method will never work because the intermediate object on which we are setting values always behaves as a copy.\n",
      "\n",
      "For example, when doing 'df[col].method(value, inplace=True)', try using 'df.method({col: value}, inplace=True)' or df[col] = df[col].method(value) instead, to perform the operation inplace on the original object.\n",
      "\n",
      "\n",
      "  data['Dependents'].fillna(data['Dependents'].mode()[0],inplace=True)\n",
      "/tmp/ipykernel_17/3710581776.py:4: FutureWarning: A value is trying to be set on a copy of a DataFrame or Series through chained assignment using an inplace method.\n",
      "The behavior will change in pandas 3.0. This inplace method will never work because the intermediate object on which we are setting values always behaves as a copy.\n",
      "\n",
      "For example, when doing 'df[col].method(value, inplace=True)', try using 'df.method({col: value}, inplace=True)' or df[col] = df[col].method(value) instead, to perform the operation inplace on the original object.\n",
      "\n",
      "\n",
      "  data['Self_Employed'].fillna(data['Self_Employed'].mode()[0],inplace=True)\n",
      "/tmp/ipykernel_17/3710581776.py:6: FutureWarning: A value is trying to be set on a copy of a DataFrame or Series through chained assignment using an inplace method.\n",
      "The behavior will change in pandas 3.0. This inplace method will never work because the intermediate object on which we are setting values always behaves as a copy.\n",
      "\n",
      "For example, when doing 'df[col].method(value, inplace=True)', try using 'df.method({col: value}, inplace=True)' or df[col] = df[col].method(value) instead, to perform the operation inplace on the original object.\n",
      "\n",
      "\n",
      "  data['Loan_Amount_Term'].fillna(data['Loan_Amount_Term'].mode()[0],inplace=True)\n",
      "/tmp/ipykernel_17/3710581776.py:7: FutureWarning: A value is trying to be set on a copy of a DataFrame or Series through chained assignment using an inplace method.\n",
      "The behavior will change in pandas 3.0. This inplace method will never work because the intermediate object on which we are setting values always behaves as a copy.\n",
      "\n",
      "For example, when doing 'df[col].method(value, inplace=True)', try using 'df.method({col: value}, inplace=True)' or df[col] = df[col].method(value) instead, to perform the operation inplace on the original object.\n",
      "\n",
      "\n",
      "  data['Credit_History'].fillna(data['Credit_History'].mode()[0],inplace=True)\n"
     ]
    },
    {
     "data": {
      "text/plain": [
       "Loan_ID              0\n",
       "Gender               0\n",
       "Married              0\n",
       "Dependents           0\n",
       "Education            0\n",
       "Self_Employed        0\n",
       "ApplicantIncome      0\n",
       "CoapplicantIncome    0\n",
       "LoanAmount           0\n",
       "Loan_Amount_Term     0\n",
       "Credit_History       0\n",
       "Property_Area        0\n",
       "Loan_Status          0\n",
       "dtype: int64"
      ]
     },
     "execution_count": 5,
     "metadata": {},
     "output_type": "execute_result"
    }
   ],
   "source": [
    "data['Gender'].fillna(data['Gender'].mode()[0],inplace=True)\n",
    "data['Married'].fillna(data['Married'].mode()[0],inplace=True)\n",
    "data['Dependents'].fillna(data['Dependents'].mode()[0],inplace=True)\n",
    "data['Self_Employed'].fillna(data['Self_Employed'].mode()[0],inplace=True)\n",
    "data.LoanAmount=data.LoanAmount.fillna(data.LoanAmount.mean())\n",
    "data['Loan_Amount_Term'].fillna(data['Loan_Amount_Term'].mode()[0],inplace=True)\n",
    "data['Credit_History'].fillna(data['Credit_History'].mode()[0],inplace=True)\n",
    "data.isnull().sum()"
   ]
  },
  {
   "cell_type": "code",
   "execution_count": 6,
   "id": "8d688222",
   "metadata": {
    "execution": {
     "iopub.execute_input": "2024-10-08T14:45:00.751682Z",
     "iopub.status.busy": "2024-10-08T14:45:00.750878Z",
     "iopub.status.idle": "2024-10-08T14:45:00.756726Z",
     "shell.execute_reply": "2024-10-08T14:45:00.755766Z"
    },
    "papermill": {
     "duration": 0.018158,
     "end_time": "2024-10-08T14:45:00.758875",
     "exception": false,
     "start_time": "2024-10-08T14:45:00.740717",
     "status": "completed"
    },
    "tags": []
   },
   "outputs": [],
   "source": [
    "data['TotalIncome']=data['ApplicantIncome']+data['CoapplicantIncome']"
   ]
  },
  {
   "cell_type": "code",
   "execution_count": 7,
   "id": "062c0da7",
   "metadata": {
    "execution": {
     "iopub.execute_input": "2024-10-08T14:45:00.779549Z",
     "iopub.status.busy": "2024-10-08T14:45:00.778718Z",
     "iopub.status.idle": "2024-10-08T14:45:01.087091Z",
     "shell.execute_reply": "2024-10-08T14:45:01.086106Z"
    },
    "papermill": {
     "duration": 0.320993,
     "end_time": "2024-10-08T14:45:01.089203",
     "exception": false,
     "start_time": "2024-10-08T14:45:00.768210",
     "status": "completed"
    },
    "tags": []
   },
   "outputs": [
    {
     "data": {
      "text/plain": [
       "<Axes: >"
      ]
     },
     "execution_count": 7,
     "metadata": {},
     "output_type": "execute_result"
    },
    {
     "data": {
      "image/png": "[encoded data removed]",
      "text/plain": [
       "<Figure size 640x480 with 1 Axes>"
      ]
     },
     "metadata": {},
     "output_type": "display_data"
    }
   ],
   "source": [
    "data['TotalIncome'].hist(bins=20)"
   ]
  },
  {
   "cell_type": "code",
   "execution_count": 8,
   "id": "8d8795ac",
   "metadata": {
    "execution": {
     "iopub.execute_input": "2024-10-08T14:45:01.110331Z",
     "iopub.status.busy": "2024-10-08T14:45:01.109710Z",
     "iopub.status.idle": "2024-10-08T14:45:01.343027Z",
     "shell.execute_reply": "2024-10-08T14:45:01.342072Z"
    },
    "papermill": {
     "duration": 0.246441,
     "end_time": "2024-10-08T14:45:01.345339",
     "exception": false,
     "start_time": "2024-10-08T14:45:01.098898",
     "status": "completed"
    },
    "tags": []
   },
   "outputs": [
    {
     "data": {
      "text/plain": [
       "<Axes: >"
      ]
     },
     "execution_count": 8,
     "metadata": {},
     "output_type": "execute_result"
    },
    {
     "data": {
      "image/png": "[encoded data removed]",
      "text/plain": [
       "<Figure size 640x480 with 1 Axes>"
      ]
     },
     "metadata": {},
     "output_type": "display_data"
    }
   ],
   "source": [
    "data['TotalIncome_log']=np.log(data['TotalIncome'])\n",
    "data['TotalIncome_log'].hist(bins=20)"
   ]
  },
  {
   "cell_type": "code",
   "execution_count": 9,
   "id": "49bb873b",
   "metadata": {
    "execution": {
     "iopub.execute_input": "2024-10-08T14:45:01.367426Z",
     "iopub.status.busy": "2024-10-08T14:45:01.367043Z",
     "iopub.status.idle": "2024-10-08T14:45:01.597645Z",
     "shell.execute_reply": "2024-10-08T14:45:01.596617Z"
    },
    "papermill": {
     "duration": 0.244545,
     "end_time": "2024-10-08T14:45:01.600010",
     "exception": false,
     "start_time": "2024-10-08T14:45:01.355465",
     "status": "completed"
    },
    "tags": []
   },
   "outputs": [
    {
     "data": {
      "text/plain": [
       "<Axes: >"
      ]
     },
     "execution_count": 9,
     "metadata": {},
     "output_type": "execute_result"
    },
    {
     "data": {
      "image/png": "[encoded data removed]",
      "text/plain": [
       "<Figure size 640x480 with 1 Axes>"
      ]
     },
     "metadata": {},
     "output_type": "display_data"
    }
   ],
   "source": [
    "data['LoanAmount'].hist(bins=20)"
   ]
  },
  {
   "cell_type": "code",
   "execution_count": 10,
   "id": "5e9625da",
   "metadata": {
    "execution": {
     "iopub.execute_input": "2024-10-08T14:45:01.622693Z",
     "iopub.status.busy": "2024-10-08T14:45:01.622296Z",
     "iopub.status.idle": "2024-10-08T14:45:01.628015Z",
     "shell.execute_reply": "2024-10-08T14:45:01.627097Z"
    },
    "papermill": {
     "duration": 0.019571,
     "end_time": "2024-10-08T14:45:01.630128",
     "exception": false,
     "start_time": "2024-10-08T14:45:01.610557",
     "status": "completed"
    },
    "tags": []
   },
   "outputs": [],
   "source": [
    "data['LoanAmount_log']=np.log(data['LoanAmount'])"
   ]
  },
  {
   "cell_type": "code",
   "execution_count": 11,
   "id": "896d519b",
   "metadata": {
    "execution": {
     "iopub.execute_input": "2024-10-08T14:45:01.653023Z",
     "iopub.status.busy": "2024-10-08T14:45:01.652638Z",
     "iopub.status.idle": "2024-10-08T14:45:01.671435Z",
     "shell.execute_reply": "2024-10-08T14:45:01.670457Z"
    },
    "papermill": {
     "duration": 0.032675,
     "end_time": "2024-10-08T14:45:01.673588",
     "exception": false,
     "start_time": "2024-10-08T14:45:01.640913",
     "status": "completed"
    },
    "tags": []
   },
   "outputs": [
    {
     "data": {
      "text/html": [
       "<div>\n",
       "<style scoped>\n",
       "    .dataframe tbody tr th:only-of-type {\n",
       "        vertical-align: middle;\n",
       "    }\n",
       "\n",
       "    .dataframe tbody tr th {\n",
       "        vertical-align: top;\n",
       "    }\n",
       "\n",
       "    .dataframe thead th {\n",
       "        text-align: right;\n",
       "    }\n",
       "</style>\n",
       "<table border=\"1\" class=\"dataframe\">\n",
       "  <thead>\n",
       "    <tr style=\"text-align: right;\">\n",
       "      <th></th>\n",
       "      <th>Loan_ID</th>\n",
       "      <th>Gender</th>\n",
       "      <th>Married</th>\n",
       "      <th>Dependents</th>\n",
       "      <th>Education</th>\n",
       "      <th>Self_Employed</th>\n",
       "      <th>ApplicantIncome</th>\n",
       "      <th>CoapplicantIncome</th>\n",
       "      <th>LoanAmount</th>\n",
       "      <th>Loan_Amount_Term</th>\n",
       "      <th>Credit_History</th>\n",
       "      <th>Property_Area</th>\n",
       "      <th>Loan_Status</th>\n",
       "      <th>TotalIncome</th>\n",
       "      <th>TotalIncome_log</th>\n",
       "      <th>LoanAmount_log</th>\n",
       "    </tr>\n",
       "  </thead>\n",
       "  <tbody>\n",
       "    <tr>\n",
       "      <th>0</th>\n",
       "      <td>LP001002</td>\n",
       "      <td>Male</td>\n",
       "      <td>No</td>\n",
       "      <td>0</td>\n",
       "      <td>Graduate</td>\n",
       "      <td>No</td>\n",
       "      <td>5849</td>\n",
       "      <td>0.0</td>\n",
       "      <td>146.412162</td>\n",
       "      <td>360.0</td>\n",
       "      <td>1.0</td>\n",
       "      <td>Urban</td>\n",
       "      <td>Y</td>\n",
       "      <td>5849.0</td>\n",
       "      <td>8.674026</td>\n",
       "      <td>4.986426</td>\n",
       "    </tr>\n",
       "    <tr>\n",
       "      <th>1</th>\n",
       "      <td>LP001003</td>\n",
       "      <td>Male</td>\n",
       "      <td>Yes</td>\n",
       "      <td>1</td>\n",
       "      <td>Graduate</td>\n",
       "      <td>No</td>\n",
       "      <td>4583</td>\n",
       "      <td>1508.0</td>\n",
       "      <td>128.000000</td>\n",
       "      <td>360.0</td>\n",
       "      <td>1.0</td>\n",
       "      <td>Rural</td>\n",
       "      <td>N</td>\n",
       "      <td>6091.0</td>\n",
       "      <td>8.714568</td>\n",
       "      <td>4.852030</td>\n",
       "    </tr>\n",
       "    <tr>\n",
       "      <th>2</th>\n",
       "      <td>LP001005</td>\n",
       "      <td>Male</td>\n",
       "      <td>Yes</td>\n",
       "      <td>0</td>\n",
       "      <td>Graduate</td>\n",
       "      <td>Yes</td>\n",
       "      <td>3000</td>\n",
       "      <td>0.0</td>\n",
       "      <td>66.000000</td>\n",
       "      <td>360.0</td>\n",
       "      <td>1.0</td>\n",
       "      <td>Urban</td>\n",
       "      <td>Y</td>\n",
       "      <td>3000.0</td>\n",
       "      <td>8.006368</td>\n",
       "      <td>4.189655</td>\n",
       "    </tr>\n",
       "    <tr>\n",
       "      <th>3</th>\n",
       "      <td>LP001006</td>\n",
       "      <td>Male</td>\n",
       "      <td>Yes</td>\n",
       "      <td>0</td>\n",
       "      <td>Not Graduate</td>\n",
       "      <td>No</td>\n",
       "      <td>2583</td>\n",
       "      <td>2358.0</td>\n",
       "      <td>120.000000</td>\n",
       "      <td>360.0</td>\n",
       "      <td>1.0</td>\n",
       "      <td>Urban</td>\n",
       "      <td>Y</td>\n",
       "      <td>4941.0</td>\n",
       "      <td>8.505323</td>\n",
       "      <td>4.787492</td>\n",
       "    </tr>\n",
       "    <tr>\n",
       "      <th>4</th>\n",
       "      <td>LP001008</td>\n",
       "      <td>Male</td>\n",
       "      <td>No</td>\n",
       "      <td>0</td>\n",
       "      <td>Graduate</td>\n",
       "      <td>No</td>\n",
       "      <td>6000</td>\n",
       "      <td>0.0</td>\n",
       "      <td>141.000000</td>\n",
       "      <td>360.0</td>\n",
       "      <td>1.0</td>\n",
       "      <td>Urban</td>\n",
       "      <td>Y</td>\n",
       "      <td>6000.0</td>\n",
       "      <td>8.699515</td>\n",
       "      <td>4.948760</td>\n",
       "    </tr>\n",
       "  </tbody>\n",
       "</table>\n",
       "</div>"
      ],
      "text/plain": [
       "    Loan_ID Gender Married Dependents     Education Self_Employed  \\\n",
       "0  LP001002   Male      No          0      Graduate            No   \n",
       "1  LP001003   Male     Yes          1      Graduate            No   \n",
       "2  LP001005   Male     Yes          0      Graduate           Yes   \n",
       "3  LP001006   Male     Yes          0  Not Graduate            No   \n",
       "4  LP001008   Male      No          0      Graduate            No   \n",
       "\n",
       "   ApplicantIncome  CoapplicantIncome  LoanAmount  Loan_Amount_Term  \\\n",
       "0             5849                0.0  146.412162             360.0   \n",
       "1             4583             1508.0  128.000000             360.0   \n",
       "2             3000                0.0   66.000000             360.0   \n",
       "3             2583             2358.0  120.000000             360.0   \n",
       "4             6000                0.0  141.000000             360.0   \n",
       "\n",
       "   Credit_History Property_Area Loan_Status  TotalIncome  TotalIncome_log  \\\n",
       "0             1.0         Urban           Y       5849.0         8.674026   \n",
       "1             1.0         Rural           N       6091.0         8.714568   \n",
       "2             1.0         Urban           Y       3000.0         8.006368   \n",
       "3             1.0         Urban           Y       4941.0         8.505323   \n",
       "4             1.0         Urban           Y       6000.0         8.699515   \n",
       "\n",
       "   LoanAmount_log  \n",
       "0        4.986426  \n",
       "1        4.852030  \n",
       "2        4.189655  \n",
       "3        4.787492  \n",
       "4        4.948760  "
      ]
     },
     "execution_count": 11,
     "metadata": {},
     "output_type": "execute_result"
    }
   ],
   "source": [
    "data.head()"
   ]
  },
  {
   "cell_type": "code",
   "execution_count": 12,
   "id": "c4899f12",
   "metadata": {
    "execution": {
     "iopub.execute_input": "2024-10-08T14:45:01.696726Z",
     "iopub.status.busy": "2024-10-08T14:45:01.696338Z",
     "iopub.status.idle": "2024-10-08T14:45:01.707989Z",
     "shell.execute_reply": "2024-10-08T14:45:01.706989Z"
    },
    "papermill": {
     "duration": 0.025407,
     "end_time": "2024-10-08T14:45:01.710042",
     "exception": false,
     "start_time": "2024-10-08T14:45:01.684635",
     "status": "completed"
    },
    "tags": []
   },
   "outputs": [],
   "source": [
    "x=data.iloc[:,np.r_[1:5,9:11,13:15]].values\n",
    "y=data.iloc[:,12]"
   ]
  },
  {
   "cell_type": "code",
   "execution_count": 13,
   "id": "e6e6d429",
   "metadata": {
    "execution": {
     "iopub.execute_input": "2024-10-08T14:45:01.732971Z",
     "iopub.status.busy": "2024-10-08T14:45:01.732570Z",
     "iopub.status.idle": "2024-10-08T14:45:03.039850Z",
     "shell.execute_reply": "2024-10-08T14:45:03.038799Z"
    },
    "papermill": {
     "duration": 1.321452,
     "end_time": "2024-10-08T14:45:03.042352",
     "exception": false,
     "start_time": "2024-10-08T14:45:01.720900",
     "status": "completed"
    },
    "tags": []
   },
   "outputs": [],
   "source": [
    "from sklearn.model_selection import train_test_split\n",
    "x_train,x_test,y_train,y_test=train_test_split(x,y,test_size=0.2,random_state=0)"
   ]
  },
  {
   "cell_type": "code",
   "execution_count": 14,
   "id": "697831e9",
   "metadata": {
    "execution": {
     "iopub.execute_input": "2024-10-08T14:45:03.065294Z",
     "iopub.status.busy": "2024-10-08T14:45:03.064751Z",
     "iopub.status.idle": "2024-10-08T14:45:03.069510Z",
     "shell.execute_reply": "2024-10-08T14:45:03.068515Z"
    },
    "papermill": {
     "duration": 0.01852,
     "end_time": "2024-10-08T14:45:03.071567",
     "exception": false,
     "start_time": "2024-10-08T14:45:03.053047",
     "status": "completed"
    },
    "tags": []
   },
   "outputs": [],
   "source": [
    "from sklearn.preprocessing import LabelEncoder\n",
    "labelencoder_x=LabelEncoder()"
   ]
  },
  {
   "cell_type": "code",
   "execution_count": 15,
   "id": "f07318e1",
   "metadata": {
    "execution": {
     "iopub.execute_input": "2024-10-08T14:45:03.095219Z",
     "iopub.status.busy": "2024-10-08T14:45:03.094289Z",
     "iopub.status.idle": "2024-10-08T14:45:03.102653Z",
     "shell.execute_reply": "2024-10-08T14:45:03.101582Z"
    },
    "papermill": {
     "duration": 0.02235,
     "end_time": "2024-10-08T14:45:03.104772",
     "exception": false,
     "start_time": "2024-10-08T14:45:03.082422",
     "status": "completed"
    },
    "tags": []
   },
   "outputs": [],
   "source": [
    "for i in range(0,5):\n",
    "    x_train[:,i]=labelencoder_x.fit_transform(x_train[:,i])\n",
    "x_train[:,7]=labelencoder_x.fit_transform(x_train[:,7])"
   ]
  },
  {
   "cell_type": "code",
   "execution_count": 16,
   "id": "83a7e0d1",
   "metadata": {
    "execution": {
     "iopub.execute_input": "2024-10-08T14:45:03.128672Z",
     "iopub.status.busy": "2024-10-08T14:45:03.127925Z",
     "iopub.status.idle": "2024-10-08T14:45:03.133982Z",
     "shell.execute_reply": "2024-10-08T14:45:03.133052Z"
    },
    "papermill": {
     "duration": 0.020174,
     "end_time": "2024-10-08T14:45:03.136020",
     "exception": false,
     "start_time": "2024-10-08T14:45:03.115846",
     "status": "completed"
    },
    "tags": []
   },
   "outputs": [],
   "source": [
    "for i in range(0,5):\n",
    "    x_test[:,i]=labelencoder_x.fit_transform(x_test[:,i])\n",
    "x_test[:,7]=labelencoder_x.fit_transform(x_test[:,7])"
   ]
  },
  {
   "cell_type": "code",
   "execution_count": 17,
   "id": "ee495a10",
   "metadata": {
    "execution": {
     "iopub.execute_input": "2024-10-08T14:45:03.159472Z",
     "iopub.status.busy": "2024-10-08T14:45:03.158568Z",
     "iopub.status.idle": "2024-10-08T14:45:03.164106Z",
     "shell.execute_reply": "2024-10-08T14:45:03.163148Z"
    },
    "papermill": {
     "duration": 0.019263,
     "end_time": "2024-10-08T14:45:03.166044",
     "exception": false,
     "start_time": "2024-10-08T14:45:03.146781",
     "status": "completed"
    },
    "tags": []
   },
   "outputs": [],
   "source": [
    "labelencoder_y=LabelEncoder()\n",
    "y_train=labelencoder_y.fit_transform(y_train)\n",
    "y_test=labelencoder_y.fit_transform(y_test)"
   ]
  },
  {
   "cell_type": "code",
   "execution_count": 18,
   "id": "48e725f0",
   "metadata": {
    "execution": {
     "iopub.execute_input": "2024-10-08T14:45:03.189182Z",
     "iopub.status.busy": "2024-10-08T14:45:03.188419Z",
     "iopub.status.idle": "2024-10-08T14:45:03.196099Z",
     "shell.execute_reply": "2024-10-08T14:45:03.195197Z"
    },
    "papermill": {
     "duration": 0.021421,
     "end_time": "2024-10-08T14:45:03.198118",
     "exception": false,
     "start_time": "2024-10-08T14:45:03.176697",
     "status": "completed"
    },
    "tags": []
   },
   "outputs": [],
   "source": [
    "from sklearn.preprocessing import StandardScaler\n",
    "ss=StandardScaler()\n",
    "x_train=ss.fit_transform(x_train)\n",
    "x_test=ss.fit_transform(x_test)"
   ]
  },
  {
   "cell_type": "code",
   "execution_count": 19,
   "id": "ca81a092",
   "metadata": {
    "execution": {
     "iopub.execute_input": "2024-10-08T14:45:03.221027Z",
     "iopub.status.busy": "2024-10-08T14:45:03.220280Z",
     "iopub.status.idle": "2024-10-08T14:45:03.399209Z",
     "shell.execute_reply": "2024-10-08T14:45:03.398355Z"
    },
    "papermill": {
     "duration": 0.192948,
     "end_time": "2024-10-08T14:45:03.401657",
     "exception": false,
     "start_time": "2024-10-08T14:45:03.208709",
     "status": "completed"
    },
    "tags": []
   },
   "outputs": [],
   "source": [
    "from sklearn.tree import DecisionTreeClassifier"
   ]
  },
  {
   "cell_type": "code",
   "execution_count": 20,
   "id": "2878b5c2",
   "metadata": {
    "execution": {
     "iopub.execute_input": "2024-10-08T14:45:03.425197Z",
     "iopub.status.busy": "2024-10-08T14:45:03.424411Z",
     "iopub.status.idle": "2024-10-08T14:45:03.437401Z",
     "shell.execute_reply": "2024-10-08T14:45:03.436481Z"
    },
    "papermill": {
     "duration": 0.026911,
     "end_time": "2024-10-08T14:45:03.439486",
     "exception": false,
     "start_time": "2024-10-08T14:45:03.412575",
     "status": "completed"
    },
    "tags": []
   },
   "outputs": [
    {
     "data": {
      "text/html": [
       "<style>#sk-container-id-1 {color: black;background-color: white;}#sk-container-id-1 pre{padding: 0;}#sk-container-id-1 div.sk-toggleable {background-color: white;}#sk-container-id-1 label.sk-toggleable__label {cursor: pointer;display: block;width: 100%;margin-bottom: 0;padding: 0.3em;box-sizing: border-box;text-align: center;}#sk-container-id-1 label.sk-toggleable__label-arrow:before {content: \"▸\";float: left;margin-right: 0.25em;color: #696969;}#sk-container-id-1 label.sk-toggleable__label-arrow:hover:before {color: black;}#sk-container-id-1 div.sk-estimator:hover label.sk-toggleable__label-arrow:before {color: black;}#sk-container-id-1 div.sk-toggleable__content {max-height: 0;max-width: 0;overflow: hidden;text-align: left;background-color: #f0f8ff;}#sk-container-id-1 div.sk-toggleable__content pre {margin: 0.2em;color: black;border-radius: 0.25em;background-color: #f0f8ff;}#sk-container-id-1 input.sk-toggleable__control:checked~div.sk-toggleable__content {max-height: 200px;max-width: 100%;overflow: auto;}#sk-container-id-1 input.sk-toggleable__control:checked~label.sk-toggleable__label-arrow:before {content: \"▾\";}#sk-container-id-1 div.sk-estimator input.sk-toggleable__control:checked~label.sk-toggleable__label {background-color: #d4ebff;}#sk-container-id-1 div.sk-label input.sk-toggleable__control:checked~label.sk-toggleable__label {background-color: #d4ebff;}#sk-container-id-1 input.sk-hidden--visually {border: 0;clip: rect(1px 1px 1px 1px);clip: rect(1px, 1px, 1px, 1px);height: 1px;margin: -1px;overflow: hidden;padding: 0;position: absolute;width: 1px;}#sk-container-id-1 div.sk-estimator {font-family: monospace;background-color: #f0f8ff;border: 1px dotted black;border-radius: 0.25em;box-sizing: border-box;margin-bottom: 0.5em;}#sk-container-id-1 div.sk-estimator:hover {background-color: #d4ebff;}#sk-container-id-1 div.sk-parallel-item::after {content: \"\";width: 100%;border-bottom: 1px solid gray;flex-grow: 1;}#sk-container-id-1 div.sk-label:hover label.sk-toggleable__label {background-color: #d4ebff;}#sk-container-id-1 div.sk-serial::before {content: \"\";position: absolute;border-left: 1px solid gray;box-sizing: border-box;top: 0;bottom: 0;left: 50%;z-index: 0;}#sk-container-id-1 div.sk-serial {display: flex;flex-direction: column;align-items: center;background-color: white;padding-right: 0.2em;padding-left: 0.2em;position: relative;}#sk-container-id-1 div.sk-item {position: relative;z-index: 1;}#sk-container-id-1 div.sk-parallel {display: flex;align-items: stretch;justify-content: center;background-color: white;position: relative;}#sk-container-id-1 div.sk-item::before, #sk-container-id-1 div.sk-parallel-item::before {content: \"\";position: absolute;border-left: 1px solid gray;box-sizing: border-box;top: 0;bottom: 0;left: 50%;z-index: -1;}#sk-container-id-1 div.sk-parallel-item {display: flex;flex-direction: column;z-index: 1;position: relative;background-color: white;}#sk-container-id-1 div.sk-parallel-item:first-child::after {align-self: flex-end;width: 50%;}#sk-container-id-1 div.sk-parallel-item:last-child::after {align-self: flex-start;width: 50%;}#sk-container-id-1 div.sk-parallel-item:only-child::after {width: 0;}#sk-container-id-1 div.sk-dashed-wrapped {border: 1px dashed gray;margin: 0 0.4em 0.5em 0.4em;box-sizing: border-box;padding-bottom: 0.4em;background-color: white;}#sk-container-id-1 div.sk-label label {font-family: monospace;font-weight: bold;display: inline-block;line-height: 1.2em;}#sk-container-id-1 div.sk-label-container {text-align: center;}#sk-container-id-1 div.sk-container {/* jupyter's `normalize.less` sets `[hidden] { display: none; }` but bootstrap.min.css set `[hidden] { display: none !important; }` so we also need the `!important` here to be able to override the default hidden behavior on the sphinx rendered scikit-learn.org. See: https://github.com/scikit-learn/scikit-learn/issues/21755 */display: inline-block !important;position: relative;}#sk-container-id-1 div.sk-text-repr-fallback {display: none;}</style><div id=\"sk-container-id-1\" class=\"sk-top-container\"><div class=\"sk-text-repr-fallback\"><pre>DecisionTreeClassifier(criterion=&#x27;entropy&#x27;, random_state=0)</pre><b>In a Jupyter environment, please rerun this cell to show the HTML representation or trust the notebook. <br />On GitHub, the HTML representation is unable to render, please try loading this page with nbviewer.org.</b></div><div class=\"sk-container\" hidden><div class=\"sk-item\"><div class=\"sk-estimator sk-toggleable\"><input class=\"sk-toggleable__control sk-hidden--visually\" id=\"sk-estimator-id-1\" type=\"checkbox\" checked><label for=\"sk-estimator-id-1\" class=\"sk-toggleable__label sk-toggleable__label-arrow\">DecisionTreeClassifier</label><div class=\"sk-toggleable__content\"><pre>DecisionTreeClassifier(criterion=&#x27;entropy&#x27;, random_state=0)</pre></div></div></div></div></div>"
      ],
      "text/plain": [
       "DecisionTreeClassifier(criterion='entropy', random_state=0)"
      ]
     },
     "execution_count": 20,
     "metadata": {},
     "output_type": "execute_result"
    }
   ],
   "source": [
    "DTClassifier=DecisionTreeClassifier(criterion='entropy',random_state=0)\n",
    "DTClassifier.fit(x_train,y_train)"
   ]
  },
  {
   "cell_type": "code",
   "execution_count": 21,
   "id": "eccb73e7",
   "metadata": {
    "execution": {
     "iopub.execute_input": "2024-10-08T14:45:03.463166Z",
     "iopub.status.busy": "2024-10-08T14:45:03.462418Z",
     "iopub.status.idle": "2024-10-08T14:45:03.467317Z",
     "shell.execute_reply": "2024-10-08T14:45:03.466453Z"
    },
    "papermill": {
     "duration": 0.018894,
     "end_time": "2024-10-08T14:45:03.469277",
     "exception": false,
     "start_time": "2024-10-08T14:45:03.450383",
     "status": "completed"
    },
    "tags": []
   },
   "outputs": [],
   "source": [
    "y_pred=DTClassifier.predict(x_test)"
   ]
  },
  {
   "cell_type": "code",
   "execution_count": 22,
   "id": "1b157959",
   "metadata": {
    "execution": {
     "iopub.execute_input": "2024-10-08T14:45:03.493056Z",
     "iopub.status.busy": "2024-10-08T14:45:03.492225Z",
     "iopub.status.idle": "2024-10-08T14:45:03.499034Z",
     "shell.execute_reply": "2024-10-08T14:45:03.498006Z"
    },
    "papermill": {
     "duration": 0.020903,
     "end_time": "2024-10-08T14:45:03.501184",
     "exception": false,
     "start_time": "2024-10-08T14:45:03.480281",
     "status": "completed"
    },
    "tags": []
   },
   "outputs": [
    {
     "name": "stdout",
     "output_type": "stream",
     "text": [
      "Accuracy of Decision Tree is : 0.6178861788617886\n"
     ]
    }
   ],
   "source": [
    "from sklearn import metrics\n",
    "print(\"Accuracy of Decision Tree is :\",metrics.accuracy_score(y_pred,y_test))"
   ]
  },
  {
   "cell_type": "code",
   "execution_count": 23,
   "id": "7e913b53",
   "metadata": {
    "execution": {
     "iopub.execute_input": "2024-10-08T14:45:03.524972Z",
     "iopub.status.busy": "2024-10-08T14:45:03.524570Z",
     "iopub.status.idle": "2024-10-08T14:45:03.531163Z",
     "shell.execute_reply": "2024-10-08T14:45:03.530354Z"
    },
    "papermill": {
     "duration": 0.020947,
     "end_time": "2024-10-08T14:45:03.533245",
     "exception": false,
     "start_time": "2024-10-08T14:45:03.512298",
     "status": "completed"
    },
    "tags": []
   },
   "outputs": [],
   "source": [
    "from sklearn.naive_bayes import GaussianNB"
   ]
  },
  {
   "cell_type": "code",
   "execution_count": 24,
   "id": "259ba341",
   "metadata": {
    "execution": {
     "iopub.execute_input": "2024-10-08T14:45:03.557061Z",
     "iopub.status.busy": "2024-10-08T14:45:03.556394Z",
     "iopub.status.idle": "2024-10-08T14:45:03.566398Z",
     "shell.execute_reply": "2024-10-08T14:45:03.565431Z"
    },
    "papermill": {
     "duration": 0.024103,
     "end_time": "2024-10-08T14:45:03.568441",
     "exception": false,
     "start_time": "2024-10-08T14:45:03.544338",
     "status": "completed"
    },
    "tags": []
   },
   "outputs": [
    {
     "data": {
      "text/html": [
       "<style>#sk-container-id-2 {color: black;background-color: white;}#sk-container-id-2 pre{padding: 0;}#sk-container-id-2 div.sk-toggleable {background-color: white;}#sk-container-id-2 label.sk-toggleable__label {cursor: pointer;display: block;width: 100%;margin-bottom: 0;padding: 0.3em;box-sizing: border-box;text-align: center;}#sk-container-id-2 label.sk-toggleable__label-arrow:before {content: \"▸\";float: left;margin-right: 0.25em;color: #696969;}#sk-container-id-2 label.sk-toggleable__label-arrow:hover:before {color: black;}#sk-container-id-2 div.sk-estimator:hover label.sk-toggleable__label-arrow:before {color: black;}#sk-container-id-2 div.sk-toggleable__content {max-height: 0;max-width: 0;overflow: hidden;text-align: left;background-color: #f0f8ff;}#sk-container-id-2 div.sk-toggleable__content pre {margin: 0.2em;color: black;border-radius: 0.25em;background-color: #f0f8ff;}#sk-container-id-2 input.sk-toggleable__control:checked~div.sk-toggleable__content {max-height: 200px;max-width: 100%;overflow: auto;}#sk-container-id-2 input.sk-toggleable__control:checked~label.sk-toggleable__label-arrow:before {content: \"▾\";}#sk-container-id-2 div.sk-estimator input.sk-toggleable__control:checked~label.sk-toggleable__label {background-color: #d4ebff;}#sk-container-id-2 div.sk-label input.sk-toggleable__control:checked~label.sk-toggleable__label {background-color: #d4ebff;}#sk-container-id-2 input.sk-hidden--visually {border: 0;clip: rect(1px 1px 1px 1px);clip: rect(1px, 1px, 1px, 1px);height: 1px;margin: -1px;overflow: hidden;padding: 0;position: absolute;width: 1px;}#sk-container-id-2 div.sk-estimator {font-family: monospace;background-color: #f0f8ff;border: 1px dotted black;border-radius: 0.25em;box-sizing: border-box;margin-bottom: 0.5em;}#sk-container-id-2 div.sk-estimator:hover {background-color: #d4ebff;}#sk-container-id-2 div.sk-parallel-item::after {content: \"\";width: 100%;border-bottom: 1px solid gray;flex-grow: 1;}#sk-container-id-2 div.sk-label:hover label.sk-toggleable__label {background-color: #d4ebff;}#sk-container-id-2 div.sk-serial::before {content: \"\";position: absolute;border-left: 1px solid gray;box-sizing: border-box;top: 0;bottom: 0;left: 50%;z-index: 0;}#sk-container-id-2 div.sk-serial {display: flex;flex-direction: column;align-items: center;background-color: white;padding-right: 0.2em;padding-left: 0.2em;position: relative;}#sk-container-id-2 div.sk-item {position: relative;z-index: 1;}#sk-container-id-2 div.sk-parallel {display: flex;align-items: stretch;justify-content: center;background-color: white;position: relative;}#sk-container-id-2 div.sk-item::before, #sk-container-id-2 div.sk-parallel-item::before {content: \"\";position: absolute;border-left: 1px solid gray;box-sizing: border-box;top: 0;bottom: 0;left: 50%;z-index: -1;}#sk-container-id-2 div.sk-parallel-item {display: flex;flex-direction: column;z-index: 1;position: relative;background-color: white;}#sk-container-id-2 div.sk-parallel-item:first-child::after {align-self: flex-end;width: 50%;}#sk-container-id-2 div.sk-parallel-item:last-child::after {align-self: flex-start;width: 50%;}#sk-container-id-2 div.sk-parallel-item:only-child::after {width: 0;}#sk-container-id-2 div.sk-dashed-wrapped {border: 1px dashed gray;margin: 0 0.4em 0.5em 0.4em;box-sizing: border-box;padding-bottom: 0.4em;background-color: white;}#sk-container-id-2 div.sk-label label {font-family: monospace;font-weight: bold;display: inline-block;line-height: 1.2em;}#sk-container-id-2 div.sk-label-container {text-align: center;}#sk-container-id-2 div.sk-container {/* jupyter's `normalize.less` sets `[hidden] { display: none; }` but bootstrap.min.css set `[hidden] { display: none !important; }` so we also need the `!important` here to be able to override the default hidden behavior on the sphinx rendered scikit-learn.org. See: https://github.com/scikit-learn/scikit-learn/issues/21755 */display: inline-block !important;position: relative;}#sk-container-id-2 div.sk-text-repr-fallback {display: none;}</style><div id=\"sk-container-id-2\" class=\"sk-top-container\"><div class=\"sk-text-repr-fallback\"><pre>GaussianNB()</pre><b>In a Jupyter environment, please rerun this cell to show the HTML representation or trust the notebook. <br />On GitHub, the HTML representation is unable to render, please try loading this page with nbviewer.org.</b></div><div class=\"sk-container\" hidden><div class=\"sk-item\"><div class=\"sk-estimator sk-toggleable\"><input class=\"sk-toggleable__control sk-hidden--visually\" id=\"sk-estimator-id-2\" type=\"checkbox\" checked><label for=\"sk-estimator-id-2\" class=\"sk-toggleable__label sk-toggleable__label-arrow\">GaussianNB</label><div class=\"sk-toggleable__content\"><pre>GaussianNB()</pre></div></div></div></div></div>"
      ],
      "text/plain": [
       "GaussianNB()"
      ]
     },
     "execution_count": 24,
     "metadata": {},
     "output_type": "execute_result"
    }
   ],
   "source": [
    "NBClassifier=GaussianNB()\n",
    "NBClassifier.fit(x_train,y_train)"
   ]
  },
  {
   "cell_type": "code",
   "execution_count": 25,
   "id": "15030f15",
   "metadata": {
    "execution": {
     "iopub.execute_input": "2024-10-08T14:45:03.592907Z",
     "iopub.status.busy": "2024-10-08T14:45:03.591941Z",
     "iopub.status.idle": "2024-10-08T14:45:03.599453Z",
     "shell.execute_reply": "2024-10-08T14:45:03.598273Z"
    },
    "papermill": {
     "duration": 0.021815,
     "end_time": "2024-10-08T14:45:03.601442",
     "exception": false,
     "start_time": "2024-10-08T14:45:03.579627",
     "status": "completed"
    },
    "tags": []
   },
   "outputs": [
    {
     "name": "stdout",
     "output_type": "stream",
     "text": [
      "Accuracy of Bayes Algorithm:  0.8373983739837398\n"
     ]
    }
   ],
   "source": [
    "y_pred=NBClassifier.predict(x_test)\n",
    "print(\"Accuracy of Bayes Algorithm: \",metrics.accuracy_score(y_pred,y_test))"
   ]
  },
  {
   "cell_type": "code",
   "execution_count": 26,
   "id": "dff2d50c",
   "metadata": {
    "execution": {
     "iopub.execute_input": "2024-10-08T14:45:03.625726Z",
     "iopub.status.busy": "2024-10-08T14:45:03.624962Z",
     "iopub.status.idle": "2024-10-08T14:45:03.635754Z",
     "shell.execute_reply": "2024-10-08T14:45:03.634921Z"
    },
    "papermill": {
     "duration": 0.025452,
     "end_time": "2024-10-08T14:45:03.638087",
     "exception": false,
     "start_time": "2024-10-08T14:45:03.612635",
     "status": "completed"
    },
    "tags": []
   },
   "outputs": [],
   "source": [
    "testdata=pd.read_csv(\"/kaggle/input/loaneligibilityprediction/loan-test.csv\")"
   ]
  },
  {
   "cell_type": "code",
   "execution_count": 27,
   "id": "885babc8",
   "metadata": {
    "execution": {
     "iopub.execute_input": "2024-10-08T14:45:03.662790Z",
     "iopub.status.busy": "2024-10-08T14:45:03.662082Z",
     "iopub.status.idle": "2024-10-08T14:45:03.670523Z",
     "shell.execute_reply": "2024-10-08T14:45:03.669633Z"
    },
    "papermill": {
     "duration": 0.022879,
     "end_time": "2024-10-08T14:45:03.672456",
     "exception": false,
     "start_time": "2024-10-08T14:45:03.649577",
     "status": "completed"
    },
    "tags": []
   },
   "outputs": [
    {
     "data": {
      "text/plain": [
       "Loan_ID               0\n",
       "Gender               11\n",
       "Married               0\n",
       "Dependents           10\n",
       "Education             0\n",
       "Self_Employed        23\n",
       "ApplicantIncome       0\n",
       "CoapplicantIncome     0\n",
       "LoanAmount            5\n",
       "Loan_Amount_Term      6\n",
       "Credit_History       29\n",
       "Property_Area         0\n",
       "dtype: int64"
      ]
     },
     "execution_count": 27,
     "metadata": {},
     "output_type": "execute_result"
    }
   ],
   "source": [
    "testdata.isnull().sum()"
   ]
  },
  {
   "cell_type": "code",
   "execution_count": 28,
   "id": "f156ad46",
   "metadata": {
    "execution": {
     "iopub.execute_input": "2024-10-08T14:45:03.697453Z",
     "iopub.status.busy": "2024-10-08T14:45:03.696757Z",
     "iopub.status.idle": "2024-10-08T14:45:03.709500Z",
     "shell.execute_reply": "2024-10-08T14:45:03.708469Z"
    },
    "papermill": {
     "duration": 0.02824,
     "end_time": "2024-10-08T14:45:03.712266",
     "exception": false,
     "start_time": "2024-10-08T14:45:03.684026",
     "status": "completed"
    },
    "tags": []
   },
   "outputs": [
    {
     "name": "stderr",
     "output_type": "stream",
     "text": [
      "/tmp/ipykernel_17/3569226183.py:1: FutureWarning: A value is trying to be set on a copy of a DataFrame or Series through chained assignment using an inplace method.\n",
      "The behavior will change in pandas 3.0. This inplace method will never work because the intermediate object on which we are setting values always behaves as a copy.\n",
      "\n",
      "For example, when doing 'df[col].method(value, inplace=True)', try using 'df.method({col: value}, inplace=True)' or df[col] = df[col].method(value) instead, to perform the operation inplace on the original object.\n",
      "\n",
      "\n",
      "  testdata['Gender'].fillna(data['Gender'].mode()[0],inplace=True)\n",
      "/tmp/ipykernel_17/3569226183.py:2: FutureWarning: A value is trying to be set on a copy of a DataFrame or Series through chained assignment using an inplace method.\n",
      "The behavior will change in pandas 3.0. This inplace method will never work because the intermediate object on which we are setting values always behaves as a copy.\n",
      "\n",
      "For example, when doing 'df[col].method(value, inplace=True)', try using 'df.method({col: value}, inplace=True)' or df[col] = df[col].method(value) instead, to perform the operation inplace on the original object.\n",
      "\n",
      "\n",
      "  testdata['Dependents'].fillna(data['Dependents'].mode()[0],inplace=True)\n",
      "/tmp/ipykernel_17/3569226183.py:3: FutureWarning: A value is trying to be set on a copy of a DataFrame or Series through chained assignment using an inplace method.\n",
      "The behavior will change in pandas 3.0. This inplace method will never work because the intermediate object on which we are setting values always behaves as a copy.\n",
      "\n",
      "For example, when doing 'df[col].method(value, inplace=True)', try using 'df.method({col: value}, inplace=True)' or df[col] = df[col].method(value) instead, to perform the operation inplace on the original object.\n",
      "\n",
      "\n",
      "  testdata['Self_Employed'].fillna(data['Self_Employed'].mode()[0],inplace=True)\n",
      "/tmp/ipykernel_17/3569226183.py:5: FutureWarning: A value is trying to be set on a copy of a DataFrame or Series through chained assignment using an inplace method.\n",
      "The behavior will change in pandas 3.0. This inplace method will never work because the intermediate object on which we are setting values always behaves as a copy.\n",
      "\n",
      "For example, when doing 'df[col].method(value, inplace=True)', try using 'df.method({col: value}, inplace=True)' or df[col] = df[col].method(value) instead, to perform the operation inplace on the original object.\n",
      "\n",
      "\n",
      "  testdata['Loan_Amount_Term'].fillna(data['Loan_Amount_Term'].mode()[0],inplace=True)\n",
      "/tmp/ipykernel_17/3569226183.py:6: FutureWarning: A value is trying to be set on a copy of a DataFrame or Series through chained assignment using an inplace method.\n",
      "The behavior will change in pandas 3.0. This inplace method will never work because the intermediate object on which we are setting values always behaves as a copy.\n",
      "\n",
      "For example, when doing 'df[col].method(value, inplace=True)', try using 'df.method({col: value}, inplace=True)' or df[col] = df[col].method(value) instead, to perform the operation inplace on the original object.\n",
      "\n",
      "\n",
      "  testdata['Credit_History'].fillna(data['Credit_History'].mode()[0],inplace=True)\n"
     ]
    }
   ],
   "source": [
    "testdata['Gender'].fillna(data['Gender'].mode()[0],inplace=True)\n",
    "testdata['Dependents'].fillna(data['Dependents'].mode()[0],inplace=True)\n",
    "testdata['Self_Employed'].fillna(data['Self_Employed'].mode()[0],inplace=True)\n",
    "testdata.LoanAmount=testdata.LoanAmount.fillna(testdata.LoanAmount.mean())\n",
    "testdata['Loan_Amount_Term'].fillna(data['Loan_Amount_Term'].mode()[0],inplace=True)\n",
    "testdata['Credit_History'].fillna(data['Credit_History'].mode()[0],inplace=True)"
   ]
  },
  {
   "cell_type": "code",
   "execution_count": 29,
   "id": "116259a6",
   "metadata": {
    "execution": {
     "iopub.execute_input": "2024-10-08T14:45:03.737283Z",
     "iopub.status.busy": "2024-10-08T14:45:03.736914Z",
     "iopub.status.idle": "2024-10-08T14:45:03.745077Z",
     "shell.execute_reply": "2024-10-08T14:45:03.744184Z"
    },
    "papermill": {
     "duration": 0.023118,
     "end_time": "2024-10-08T14:45:03.747186",
     "exception": false,
     "start_time": "2024-10-08T14:45:03.724068",
     "status": "completed"
    },
    "tags": []
   },
   "outputs": [
    {
     "data": {
      "text/plain": [
       "Loan_ID              0\n",
       "Gender               0\n",
       "Married              0\n",
       "Dependents           0\n",
       "Education            0\n",
       "Self_Employed        0\n",
       "ApplicantIncome      0\n",
       "CoapplicantIncome    0\n",
       "LoanAmount           0\n",
       "Loan_Amount_Term     0\n",
       "Credit_History       0\n",
       "Property_Area        0\n",
       "dtype: int64"
      ]
     },
     "execution_count": 29,
     "metadata": {},
     "output_type": "execute_result"
    }
   ],
   "source": [
    "testdata.isnull().sum()"
   ]
  },
  {
   "cell_type": "code",
   "execution_count": 30,
   "id": "02669953",
   "metadata": {
    "execution": {
     "iopub.execute_input": "2024-10-08T14:45:03.772088Z",
     "iopub.status.busy": "2024-10-08T14:45:03.771704Z",
     "iopub.status.idle": "2024-10-08T14:45:04.008340Z",
     "shell.execute_reply": "2024-10-08T14:45:04.007351Z"
    },
    "papermill": {
     "duration": 0.251582,
     "end_time": "2024-10-08T14:45:04.010444",
     "exception": false,
     "start_time": "2024-10-08T14:45:03.758862",
     "status": "completed"
    },
    "tags": []
   },
   "outputs": [
    {
     "data": {
      "text/plain": [
       "<Axes: >"
      ]
     },
     "execution_count": 30,
     "metadata": {},
     "output_type": "execute_result"
    },
    {
     "data": {
      "image/png": "[encoded data removed]",
      "text/plain": [
       "<Figure size 640x480 with 1 Axes>"
      ]
     },
     "metadata": {},
     "output_type": "display_data"
    }
   ],
   "source": [
    "testdata['TotalIncome']=testdata['ApplicantIncome']+testdata['CoapplicantIncome']\n",
    "testdata['TotalIncome'].hist(bins=20)"
   ]
  },
  {
   "cell_type": "code",
   "execution_count": 31,
   "id": "2bb5d7db",
   "metadata": {
    "execution": {
     "iopub.execute_input": "2024-10-08T14:45:04.035844Z",
     "iopub.status.busy": "2024-10-08T14:45:04.035452Z",
     "iopub.status.idle": "2024-10-08T14:45:04.272207Z",
     "shell.execute_reply": "2024-10-08T14:45:04.271173Z"
    },
    "papermill": {
     "duration": 0.252082,
     "end_time": "2024-10-08T14:45:04.274557",
     "exception": false,
     "start_time": "2024-10-08T14:45:04.022475",
     "status": "completed"
    },
    "tags": []
   },
   "outputs": [
    {
     "data": {
      "text/plain": [
       "<Axes: >"
      ]
     },
     "execution_count": 31,
     "metadata": {},
     "output_type": "execute_result"
    },
    {
     "data": {
      "image/png": "[encoded data removed]",
      "text/plain": [
       "<Figure size 640x480 with 1 Axes>"
      ]
     },
     "metadata": {},
     "output_type": "display_data"
    }
   ],
   "source": [
    "testdata['TotalIncome_log']=np.log(testdata['TotalIncome'])\n",
    "testdata['TotalIncome_log'].hist(bins=20)"
   ]
  },
  {
   "cell_type": "code",
   "execution_count": 32,
   "id": "440c4a48",
   "metadata": {
    "execution": {
     "iopub.execute_input": "2024-10-08T14:45:04.302381Z",
     "iopub.status.busy": "2024-10-08T14:45:04.301256Z",
     "iopub.status.idle": "2024-10-08T14:45:04.506321Z",
     "shell.execute_reply": "2024-10-08T14:45:04.505275Z"
    },
    "papermill": {
     "duration": 0.220828,
     "end_time": "2024-10-08T14:45:04.508484",
     "exception": false,
     "start_time": "2024-10-08T14:45:04.287656",
     "status": "completed"
    },
    "tags": []
   },
   "outputs": [
    {
     "data": {
      "text/plain": [
       "<Axes: >"
      ]
     },
     "execution_count": 32,
     "metadata": {},
     "output_type": "execute_result"
    },
    {
     "data": {
      "image/png": "[encoded data removed]",
      "text/plain": [
       "<Figure size 640x480 with 1 Axes>"
      ]
     },
     "metadata": {},
     "output_type": "display_data"
    }
   ],
   "source": [
    "testdata['LoanAmount'].hist(bins=20)"
   ]
  },
  {
   "cell_type": "code",
   "execution_count": 33,
   "id": "59742d06",
   "metadata": {
    "execution": {
     "iopub.execute_input": "2024-10-08T14:45:04.535960Z",
     "iopub.status.busy": "2024-10-08T14:45:04.535069Z",
     "iopub.status.idle": "2024-10-08T14:45:04.804757Z",
     "shell.execute_reply": "2024-10-08T14:45:04.803746Z"
    },
    "papermill": {
     "duration": 0.285826,
     "end_time": "2024-10-08T14:45:04.807032",
     "exception": false,
     "start_time": "2024-10-08T14:45:04.521206",
     "status": "completed"
    },
    "tags": []
   },
   "outputs": [
    {
     "data": {
      "text/plain": [
       "<Axes: >"
      ]
     },
     "execution_count": 33,
     "metadata": {},
     "output_type": "execute_result"
    },
    {
     "data": {
      "image/png": "[encoded data removed]",
      "text/plain": [
       "<Figure size 640x480 with 1 Axes>"
      ]
     },
     "metadata": {},
     "output_type": "display_data"
    }
   ],
   "source": [
    "testdata['LoanAmount_log']=np.log(testdata['LoanAmount'])\n",
    "testdata['LoanAmount_log'].hist(bins=20)"
   ]
  },
  {
   "cell_type": "code",
   "execution_count": 34,
   "id": "d2a9a07a",
   "metadata": {
    "execution": {
     "iopub.execute_input": "2024-10-08T14:45:04.836924Z",
     "iopub.status.busy": "2024-10-08T14:45:04.836180Z",
     "iopub.status.idle": "2024-10-08T14:45:04.854777Z",
     "shell.execute_reply": "2024-10-08T14:45:04.853778Z"
    },
    "papermill": {
     "duration": 0.035952,
     "end_time": "2024-10-08T14:45:04.856845",
     "exception": false,
     "start_time": "2024-10-08T14:45:04.820893",
     "status": "completed"
    },
    "tags": []
   },
   "outputs": [
    {
     "data": {
      "text/html": [
       "<div>\n",
       "<style scoped>\n",
       "    .dataframe tbody tr th:only-of-type {\n",
       "        vertical-align: middle;\n",
       "    }\n",
       "\n",
       "    .dataframe tbody tr th {\n",
       "        vertical-align: top;\n",
       "    }\n",
       "\n",
       "    .dataframe thead th {\n",
       "        text-align: right;\n",
       "    }\n",
       "</style>\n",
       "<table border=\"1\" class=\"dataframe\">\n",
       "  <thead>\n",
       "    <tr style=\"text-align: right;\">\n",
       "      <th></th>\n",
       "      <th>Loan_ID</th>\n",
       "      <th>Gender</th>\n",
       "      <th>Married</th>\n",
       "      <th>Dependents</th>\n",
       "      <th>Education</th>\n",
       "      <th>Self_Employed</th>\n",
       "      <th>ApplicantIncome</th>\n",
       "      <th>CoapplicantIncome</th>\n",
       "      <th>LoanAmount</th>\n",
       "      <th>Loan_Amount_Term</th>\n",
       "      <th>Credit_History</th>\n",
       "      <th>Property_Area</th>\n",
       "      <th>TotalIncome</th>\n",
       "      <th>TotalIncome_log</th>\n",
       "      <th>LoanAmount_log</th>\n",
       "    </tr>\n",
       "  </thead>\n",
       "  <tbody>\n",
       "    <tr>\n",
       "      <th>0</th>\n",
       "      <td>LP001015</td>\n",
       "      <td>Male</td>\n",
       "      <td>Yes</td>\n",
       "      <td>0</td>\n",
       "      <td>Graduate</td>\n",
       "      <td>No</td>\n",
       "      <td>5720</td>\n",
       "      <td>0</td>\n",
       "      <td>110.0</td>\n",
       "      <td>360.0</td>\n",
       "      <td>1.0</td>\n",
       "      <td>Urban</td>\n",
       "      <td>5720</td>\n",
       "      <td>8.651724</td>\n",
       "      <td>4.700480</td>\n",
       "    </tr>\n",
       "    <tr>\n",
       "      <th>1</th>\n",
       "      <td>LP001022</td>\n",
       "      <td>Male</td>\n",
       "      <td>Yes</td>\n",
       "      <td>1</td>\n",
       "      <td>Graduate</td>\n",
       "      <td>No</td>\n",
       "      <td>3076</td>\n",
       "      <td>1500</td>\n",
       "      <td>126.0</td>\n",
       "      <td>360.0</td>\n",
       "      <td>1.0</td>\n",
       "      <td>Urban</td>\n",
       "      <td>4576</td>\n",
       "      <td>8.428581</td>\n",
       "      <td>4.836282</td>\n",
       "    </tr>\n",
       "    <tr>\n",
       "      <th>2</th>\n",
       "      <td>LP001031</td>\n",
       "      <td>Male</td>\n",
       "      <td>Yes</td>\n",
       "      <td>2</td>\n",
       "      <td>Graduate</td>\n",
       "      <td>No</td>\n",
       "      <td>5000</td>\n",
       "      <td>1800</td>\n",
       "      <td>208.0</td>\n",
       "      <td>360.0</td>\n",
       "      <td>1.0</td>\n",
       "      <td>Urban</td>\n",
       "      <td>6800</td>\n",
       "      <td>8.824678</td>\n",
       "      <td>5.337538</td>\n",
       "    </tr>\n",
       "    <tr>\n",
       "      <th>3</th>\n",
       "      <td>LP001035</td>\n",
       "      <td>Male</td>\n",
       "      <td>Yes</td>\n",
       "      <td>2</td>\n",
       "      <td>Graduate</td>\n",
       "      <td>No</td>\n",
       "      <td>2340</td>\n",
       "      <td>2546</td>\n",
       "      <td>100.0</td>\n",
       "      <td>360.0</td>\n",
       "      <td>1.0</td>\n",
       "      <td>Urban</td>\n",
       "      <td>4886</td>\n",
       "      <td>8.494129</td>\n",
       "      <td>4.605170</td>\n",
       "    </tr>\n",
       "    <tr>\n",
       "      <th>4</th>\n",
       "      <td>LP001051</td>\n",
       "      <td>Male</td>\n",
       "      <td>No</td>\n",
       "      <td>0</td>\n",
       "      <td>Not Graduate</td>\n",
       "      <td>No</td>\n",
       "      <td>3276</td>\n",
       "      <td>0</td>\n",
       "      <td>78.0</td>\n",
       "      <td>360.0</td>\n",
       "      <td>1.0</td>\n",
       "      <td>Urban</td>\n",
       "      <td>3276</td>\n",
       "      <td>8.094378</td>\n",
       "      <td>4.356709</td>\n",
       "    </tr>\n",
       "  </tbody>\n",
       "</table>\n",
       "</div>"
      ],
      "text/plain": [
       "    Loan_ID Gender Married Dependents     Education Self_Employed  \\\n",
       "0  LP001015   Male     Yes          0      Graduate            No   \n",
       "1  LP001022   Male     Yes          1      Graduate            No   \n",
       "2  LP001031   Male     Yes          2      Graduate            No   \n",
       "3  LP001035   Male     Yes          2      Graduate            No   \n",
       "4  LP001051   Male      No          0  Not Graduate            No   \n",
       "\n",
       "   ApplicantIncome  CoapplicantIncome  LoanAmount  Loan_Amount_Term  \\\n",
       "0             5720                  0       110.0             360.0   \n",
       "1             3076               1500       126.0             360.0   \n",
       "2             5000               1800       208.0             360.0   \n",
       "3             2340               2546       100.0             360.0   \n",
       "4             3276                  0        78.0             360.0   \n",
       "\n",
       "   Credit_History Property_Area  TotalIncome  TotalIncome_log  LoanAmount_log  \n",
       "0             1.0         Urban         5720         8.651724        4.700480  \n",
       "1             1.0         Urban         4576         8.428581        4.836282  \n",
       "2             1.0         Urban         6800         8.824678        5.337538  \n",
       "3             1.0         Urban         4886         8.494129        4.605170  \n",
       "4             1.0         Urban         3276         8.094378        4.356709  "
      ]
     },
     "execution_count": 34,
     "metadata": {},
     "output_type": "execute_result"
    }
   ],
   "source": [
    "testdata.head()"
   ]
  },
  {
   "cell_type": "code",
   "execution_count": 35,
   "id": "405b1dbf",
   "metadata": {
    "execution": {
     "iopub.execute_input": "2024-10-08T14:45:04.885810Z",
     "iopub.status.busy": "2024-10-08T14:45:04.885067Z",
     "iopub.status.idle": "2024-10-08T14:45:04.891044Z",
     "shell.execute_reply": "2024-10-08T14:45:04.890064Z"
    },
    "papermill": {
     "duration": 0.022313,
     "end_time": "2024-10-08T14:45:04.893077",
     "exception": false,
     "start_time": "2024-10-08T14:45:04.870764",
     "status": "completed"
    },
    "tags": []
   },
   "outputs": [],
   "source": [
    "test=testdata.iloc[:,np.r_[1:5,9:11,13:15]].values"
   ]
  },
  {
   "cell_type": "code",
   "execution_count": 36,
   "id": "b9f7e2ec",
   "metadata": {
    "execution": {
     "iopub.execute_input": "2024-10-08T14:45:04.921347Z",
     "iopub.status.busy": "2024-10-08T14:45:04.920657Z",
     "iopub.status.idle": "2024-10-08T14:45:04.927289Z",
     "shell.execute_reply": "2024-10-08T14:45:04.926362Z"
    },
    "papermill": {
     "duration": 0.022966,
     "end_time": "2024-10-08T14:45:04.929431",
     "exception": false,
     "start_time": "2024-10-08T14:45:04.906465",
     "status": "completed"
    },
    "tags": []
   },
   "outputs": [],
   "source": [
    "for i in range(0,5):\n",
    "    test[:,i]=labelencoder_x.fit_transform(test[:,i])\n",
    "test[:,7]=labelencoder_x.fit_transform(test[:,7])"
   ]
  },
  {
   "cell_type": "code",
   "execution_count": 37,
   "id": "38022f64",
   "metadata": {
    "execution": {
     "iopub.execute_input": "2024-10-08T14:45:04.958015Z",
     "iopub.status.busy": "2024-10-08T14:45:04.957306Z",
     "iopub.status.idle": "2024-10-08T14:45:04.963324Z",
     "shell.execute_reply": "2024-10-08T14:45:04.962350Z"
    },
    "papermill": {
     "duration": 0.022627,
     "end_time": "2024-10-08T14:45:04.965352",
     "exception": false,
     "start_time": "2024-10-08T14:45:04.942725",
     "status": "completed"
    },
    "tags": []
   },
   "outputs": [],
   "source": [
    "test=ss.fit_transform(test)"
   ]
  },
  {
   "cell_type": "code",
   "execution_count": 38,
   "id": "9e2269d7",
   "metadata": {
    "execution": {
     "iopub.execute_input": "2024-10-08T14:45:04.993727Z",
     "iopub.status.busy": "2024-10-08T14:45:04.992976Z",
     "iopub.status.idle": "2024-10-08T14:45:04.997865Z",
     "shell.execute_reply": "2024-10-08T14:45:04.996870Z"
    },
    "papermill": {
     "duration": 0.02118,
     "end_time": "2024-10-08T14:45:04.999833",
     "exception": false,
     "start_time": "2024-10-08T14:45:04.978653",
     "status": "completed"
    },
    "tags": []
   },
   "outputs": [],
   "source": [
    "pred=NBClassifier.predict(test)"
   ]
  },
  {
   "cell_type": "code",
   "execution_count": 39,
   "id": "d53b2ffb",
   "metadata": {
    "execution": {
     "iopub.execute_input": "2024-10-08T14:45:05.028284Z",
     "iopub.status.busy": "2024-10-08T14:45:05.027446Z",
     "iopub.status.idle": "2024-10-08T14:45:05.033534Z",
     "shell.execute_reply": "2024-10-08T14:45:05.032583Z"
    },
    "papermill": {
     "duration": 0.022338,
     "end_time": "2024-10-08T14:45:05.035558",
     "exception": false,
     "start_time": "2024-10-08T14:45:05.013220",
     "status": "completed"
    },
    "tags": []
   },
   "outputs": [],
   "source": [
    "res=pd.DataFrame(\n",
    "{\n",
    "    'Loan ID':testdata.iloc[:,0],\n",
    "    'Dependents':testdata.iloc[:,3],\n",
    "    'Education':testdata.iloc[:,4],\n",
    "    'Self-Employed':testdata.iloc[:,5],\n",
    "    'Loan Amount':testdata.iloc[:,8],\n",
    "})"
   ]
  },
  {
   "cell_type": "code",
   "execution_count": 40,
   "id": "697eb929",
   "metadata": {
    "execution": {
     "iopub.execute_input": "2024-10-08T14:45:05.064137Z",
     "iopub.status.busy": "2024-10-08T14:45:05.063383Z",
     "iopub.status.idle": "2024-10-08T14:45:05.069612Z",
     "shell.execute_reply": "2024-10-08T14:45:05.068676Z"
    },
    "papermill": {
     "duration": 0.022701,
     "end_time": "2024-10-08T14:45:05.071663",
     "exception": false,
     "start_time": "2024-10-08T14:45:05.048962",
     "status": "completed"
    },
    "tags": []
   },
   "outputs": [],
   "source": [
    "res.loc[pred==1,'Loan Approved?']='Yes'\n",
    "res.loc[pred==0,'Loan Approved?']='No'"
   ]
  },
  {
   "cell_type": "code",
   "execution_count": 41,
   "id": "0674ee0f",
   "metadata": {
    "execution": {
     "iopub.execute_input": "2024-10-08T14:45:05.099955Z",
     "iopub.status.busy": "2024-10-08T14:45:05.099211Z",
     "iopub.status.idle": "2024-10-08T14:45:05.114332Z",
     "shell.execute_reply": "2024-10-08T14:45:05.113382Z"
    },
    "papermill": {
     "duration": 0.031516,
     "end_time": "2024-10-08T14:45:05.116409",
     "exception": false,
     "start_time": "2024-10-08T14:45:05.084893",
     "status": "completed"
    },
    "tags": []
   },
   "outputs": [
    {
     "data": {
      "text/html": [
       "<div>\n",
       "<style scoped>\n",
       "    .dataframe tbody tr th:only-of-type {\n",
       "        vertical-align: middle;\n",
       "    }\n",
       "\n",
       "    .dataframe tbody tr th {\n",
       "        vertical-align: top;\n",
       "    }\n",
       "\n",
       "    .dataframe thead th {\n",
       "        text-align: right;\n",
       "    }\n",
       "</style>\n",
       "<table border=\"1\" class=\"dataframe\">\n",
       "  <thead>\n",
       "    <tr style=\"text-align: right;\">\n",
       "      <th></th>\n",
       "      <th>Loan ID</th>\n",
       "      <th>Dependents</th>\n",
       "      <th>Education</th>\n",
       "      <th>Self-Employed</th>\n",
       "      <th>Loan Amount</th>\n",
       "      <th>Loan Approved?</th>\n",
       "    </tr>\n",
       "  </thead>\n",
       "  <tbody>\n",
       "    <tr>\n",
       "      <th>0</th>\n",
       "      <td>LP001015</td>\n",
       "      <td>0</td>\n",
       "      <td>Graduate</td>\n",
       "      <td>No</td>\n",
       "      <td>110.0</td>\n",
       "      <td>Yes</td>\n",
       "    </tr>\n",
       "    <tr>\n",
       "      <th>1</th>\n",
       "      <td>LP001022</td>\n",
       "      <td>1</td>\n",
       "      <td>Graduate</td>\n",
       "      <td>No</td>\n",
       "      <td>126.0</td>\n",
       "      <td>Yes</td>\n",
       "    </tr>\n",
       "    <tr>\n",
       "      <th>2</th>\n",
       "      <td>LP001031</td>\n",
       "      <td>2</td>\n",
       "      <td>Graduate</td>\n",
       "      <td>No</td>\n",
       "      <td>208.0</td>\n",
       "      <td>Yes</td>\n",
       "    </tr>\n",
       "    <tr>\n",
       "      <th>3</th>\n",
       "      <td>LP001035</td>\n",
       "      <td>2</td>\n",
       "      <td>Graduate</td>\n",
       "      <td>No</td>\n",
       "      <td>100.0</td>\n",
       "      <td>Yes</td>\n",
       "    </tr>\n",
       "    <tr>\n",
       "      <th>4</th>\n",
       "      <td>LP001051</td>\n",
       "      <td>0</td>\n",
       "      <td>Not Graduate</td>\n",
       "      <td>No</td>\n",
       "      <td>78.0</td>\n",
       "      <td>Yes</td>\n",
       "    </tr>\n",
       "    <tr>\n",
       "      <th>...</th>\n",
       "      <td>...</td>\n",
       "      <td>...</td>\n",
       "      <td>...</td>\n",
       "      <td>...</td>\n",
       "      <td>...</td>\n",
       "      <td>...</td>\n",
       "    </tr>\n",
       "    <tr>\n",
       "      <th>362</th>\n",
       "      <td>LP002971</td>\n",
       "      <td>3+</td>\n",
       "      <td>Not Graduate</td>\n",
       "      <td>Yes</td>\n",
       "      <td>113.0</td>\n",
       "      <td>Yes</td>\n",
       "    </tr>\n",
       "    <tr>\n",
       "      <th>363</th>\n",
       "      <td>LP002975</td>\n",
       "      <td>0</td>\n",
       "      <td>Graduate</td>\n",
       "      <td>No</td>\n",
       "      <td>115.0</td>\n",
       "      <td>Yes</td>\n",
       "    </tr>\n",
       "    <tr>\n",
       "      <th>364</th>\n",
       "      <td>LP002980</td>\n",
       "      <td>0</td>\n",
       "      <td>Graduate</td>\n",
       "      <td>No</td>\n",
       "      <td>126.0</td>\n",
       "      <td>Yes</td>\n",
       "    </tr>\n",
       "    <tr>\n",
       "      <th>365</th>\n",
       "      <td>LP002986</td>\n",
       "      <td>0</td>\n",
       "      <td>Graduate</td>\n",
       "      <td>No</td>\n",
       "      <td>158.0</td>\n",
       "      <td>Yes</td>\n",
       "    </tr>\n",
       "    <tr>\n",
       "      <th>366</th>\n",
       "      <td>LP002989</td>\n",
       "      <td>0</td>\n",
       "      <td>Graduate</td>\n",
       "      <td>Yes</td>\n",
       "      <td>98.0</td>\n",
       "      <td>Yes</td>\n",
       "    </tr>\n",
       "  </tbody>\n",
       "</table>\n",
       "<p>367 rows × 6 columns</p>\n",
       "</div>"
      ],
      "text/plain": [
       "      Loan ID Dependents     Education Self-Employed  Loan Amount  \\\n",
       "0    LP001015          0      Graduate            No        110.0   \n",
       "1    LP001022          1      Graduate            No        126.0   \n",
       "2    LP001031          2      Graduate            No        208.0   \n",
       "3    LP001035          2      Graduate            No        100.0   \n",
       "4    LP001051          0  Not Graduate            No         78.0   \n",
       "..        ...        ...           ...           ...          ...   \n",
       "362  LP002971         3+  Not Graduate           Yes        113.0   \n",
       "363  LP002975          0      Graduate            No        115.0   \n",
       "364  LP002980          0      Graduate            No        126.0   \n",
       "365  LP002986          0      Graduate            No        158.0   \n",
       "366  LP002989          0      Graduate           Yes         98.0   \n",
       "\n",
       "    Loan Approved?  \n",
       "0              Yes  \n",
       "1              Yes  \n",
       "2              Yes  \n",
       "3              Yes  \n",
       "4              Yes  \n",
       "..             ...  \n",
       "362            Yes  \n",
       "363            Yes  \n",
       "364            Yes  \n",
       "365            Yes  \n",
       "366            Yes  \n",
       "\n",
       "[367 rows x 6 columns]"
      ]
     },
     "execution_count": 41,
     "metadata": {},
     "output_type": "execute_result"
    }
   ],
   "source": [
    "res"
   ]
  },
  {
   "cell_type": "code",
   "execution_count": 42,
   "id": "6e20091f",
   "metadata": {
    "execution": {
     "iopub.execute_input": "2024-10-08T14:45:05.145792Z",
     "iopub.status.busy": "2024-10-08T14:45:05.145010Z",
     "iopub.status.idle": "2024-10-08T14:45:05.153390Z",
     "shell.execute_reply": "2024-10-08T14:45:05.152519Z"
    },
    "papermill": {
     "duration": 0.025357,
     "end_time": "2024-10-08T14:45:05.155547",
     "exception": false,
     "start_time": "2024-10-08T14:45:05.130190",
     "status": "completed"
    },
    "tags": []
   },
   "outputs": [],
   "source": [
    "res.to_csv('/kaggle/working/Result.csv',index=False)"
   ]
  }
 ],
 "metadata": {
  "kaggle": {
   "accelerator": "none",
   "dataSources": [
    {
     "datasetId": 5799501,
     "sourceId": 9524326,
     "sourceType": "datasetVersion"
    }
   ],
   "dockerImageVersionId": 30775,
   "isGpuEnabled": false,
   "isInternetEnabled": false,
   "language": "python",
   "sourceType": "notebook"
  },
  "kernelspec": {
   "display_name": "Python 3",
   "language": "python",
   "name": "python3"
  },
  "language_info": {
   "codemirror_mode": {
    "name": "ipython",
    "version": 3
   },
   "file_extension": ".py",
   "mimetype": "text/x-python",
   "name": "python",
   "nbconvert_exporter": "python",
   "pygments_lexer": "ipython3",
   "version": "3.10.14"
  },
  "papermill": {
   "default_parameters": {},
   "duration": 8.452489,
   "end_time": "2024-10-08T14:45:05.688649",
   "environment_variables": {},
   "exception": null,
   "input_path": "__notebook__.ipynb",
   "output_path": "__notebook__.ipynb",
   "parameters": {},
   "start_time": "2024-10-08T14:44:57.236160",
   "version": "2.6.0"
  }
 },
 "nbformat": 4,
 "nbformat_minor": 5
}
